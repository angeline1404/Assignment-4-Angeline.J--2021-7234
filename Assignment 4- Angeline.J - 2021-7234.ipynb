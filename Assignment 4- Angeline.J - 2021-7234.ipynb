{
 "cells": [
  {
   "cell_type": "markdown",
   "id": "2e61fa50",
   "metadata": {},
   "source": [
    "# Question 1"
   ]
  },
  {
   "cell_type": "code",
   "execution_count": 1,
   "id": "2e14cd50",
   "metadata": {},
   "outputs": [
    {
     "name": "stdout",
     "output_type": "stream",
     "text": [
      "Enter the no of elements:4\n",
      "\n",
      "Enter the no :1 4 0 4\n",
      "3\n",
      "0 1 4 "
     ]
    }
   ],
   "source": [
    "n=int(input(\"Enter the no of elements:\"))\n",
    "list1 = list(map(int,input(\"\\nEnter the no :\").split()[:n]))\n",
    "set1 = set(list1)\n",
    "list2= list(map(int,set1))\n",
    "list2.sort()\n",
    "print(len(list2))\n",
    "for i in list2:\n",
    "    print(i,end=\" \")\n",
    "    "
   ]
  },
  {
   "cell_type": "markdown",
   "id": "6ee96686",
   "metadata": {},
   "source": [
    "# Question 2"
   ]
  },
  {
   "cell_type": "code",
   "execution_count": 1,
   "id": "9d2805e5",
   "metadata": {},
   "outputs": [
    {
     "name": "stdout",
     "output_type": "stream",
     "text": [
      "aaddhhddd\n",
      "a2d2h2d3\n"
     ]
    }
   ],
   "source": [
    "def func1(s):\n",
    "    i=0\n",
    "    while(i< len(s)):\n",
    "        if i == len(s)-1:\n",
    "            print(str(s[i]),end = \" \")\n",
    "            break\n",
    "        else:\n",
    "            if s[i]==s[i+1]:\n",
    "                count=1\n",
    "                while s[i] ==s[i+1]:\n",
    "                    i+=1\n",
    "                    count +=1\n",
    "                    if i+1 == len(s):\n",
    "                        break\n",
    "                print(str(s[i]) + str(count),end = \"\")\n",
    "            else:\n",
    "                print(str(s[i]),end = \" \")\n",
    "        i +=1\n",
    "    print()\n",
    "n=input()\n",
    "func1(n)"
   ]
  },
  {
   "cell_type": "code",
   "execution_count": null,
   "id": "57526d89",
   "metadata": {},
   "outputs": [],
   "source": [
    "\n"
   ]
  },
  {
   "cell_type": "markdown",
   "id": "ac694b40",
   "metadata": {},
   "source": [
    "# Question 3:"
   ]
  },
  {
   "cell_type": "code",
   "execution_count": 4,
   "id": "fd82048e",
   "metadata": {},
   "outputs": [
    {
     "name": "stdout",
     "output_type": "stream",
     "text": [
      "enter no of elements :4\n",
      "\n",
      " enter the nos :1 4 0 4\n",
      "4 5 8 9 "
     ]
    }
   ],
   "source": [
    "n=int(input(\"enter no of elements :\"))\n",
    "List1 =list(map(int,input(\"\\n enter the nos :\").split()))\n",
    "List2 = [List1[i:i+j] for i in range(0,len(List1)) for j in range(1, len(List1)-i+1)]\n",
    "j=1\n",
    "for i in range(0,n):\n",
    "    count=0\n",
    "    for i in range(0,len(List2)):\n",
    "        if len(List2[i])==j:\n",
    "            if sum(List2[i])>count:\n",
    "                count=sum(List2[i])\n",
    "    j+=1\n",
    "    print(count,end=\" \")"
   ]
  },
  {
   "cell_type": "code",
   "execution_count": null,
   "id": "9d5483dd",
   "metadata": {},
   "outputs": [],
   "source": []
  },
  {
   "cell_type": "code",
   "execution_count": null,
   "id": "590f2d74",
   "metadata": {},
   "outputs": [],
   "source": []
  }
 ],
 "metadata": {
  "kernelspec": {
   "display_name": "Python 3 (ipykernel)",
   "language": "python",
   "name": "python3"
  },
  "language_info": {
   "codemirror_mode": {
    "name": "ipython",
    "version": 3
   },
   "file_extension": ".py",
   "mimetype": "text/x-python",
   "name": "python",
   "nbconvert_exporter": "python",
   "pygments_lexer": "ipython3",
   "version": "3.9.12"
  }
 },
 "nbformat": 4,
 "nbformat_minor": 5
}
